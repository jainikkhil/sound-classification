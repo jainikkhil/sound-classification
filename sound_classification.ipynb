{
  "nbformat": 4,
  "nbformat_minor": 0,
  "metadata": {
    "colab": {
      "provenance": [],
      "authorship_tag": "ABX9TyOwg0FOSIdOVw8nNlOhPuMt",
      "include_colab_link": true
    },
    "kernelspec": {
      "name": "python3",
      "display_name": "Python 3"
    },
    "language_info": {
      "name": "python"
    }
  },
  "cells": [
    {
      "cell_type": "markdown",
      "metadata": {
        "id": "view-in-github",
        "colab_type": "text"
      },
      "source": [
        "<a href=\"https://colab.research.google.com/github/jainikkhil/sound-classification/blob/main/sound_classification.ipynb\" target=\"_parent\"><img src=\"https://colab.research.google.com/assets/colab-badge.svg\" alt=\"Open In Colab\"/></a>"
      ]
    },
    {
      "cell_type": "markdown",
      "source": [
        "importing all neccessary modules"
      ],
      "metadata": {
        "id": "Zql14bLynNww"
      }
    },
    {
      "cell_type": "code",
      "source": [
        "import pandas as pd\n",
        "import numpy as np\n",
        "import librosa\n",
        "import os\n",
        "import matplotlib.pyplot as plt\n",
        "import tensorflow as tf\n",
        "from sklearn.preprocessing import LabelEncoder\n"
      ],
      "metadata": {
        "id": "JF84blFJlYR2"
      },
      "execution_count": 3,
      "outputs": []
    },
    {
      "cell_type": "code",
      "source": [
        "from keras.models import Sequential\n",
        "from keras.layers import Dense, Dropout, Flatten, Conv2D, MaxPooling2D\n",
        "from sklearn.model_selection import train_test_split\n",
        "from keras.optimizers import Adam\n",
        "from keras.callbacks import ModelCheckpoint\n",
        "from keras.utils import to_categorical"
      ],
      "metadata": {
        "id": "sT-wT5XTl0mE"
      },
      "execution_count": 6,
      "outputs": []
    },
    {
      "cell_type": "markdown",
      "source": [
        "dataset is downloaded from\n",
        " https://urbansounddataset.weebly.com/urbansound8k.html"
      ],
      "metadata": {
        "id": "ocGClEkonarR"
      }
    },
    {
      "cell_type": "code",
      "source": [
        "audio_dataset_path='UrbanSound8K/audio/'\n",
        "metadata=pd.read_csv('UrbanSound8K/metadata/UrbanSound8K.csv')\n",
        "metadata.head()\n"
      ],
      "metadata": {
        "id": "wNl7RjkJlbLf"
      },
      "execution_count": null,
      "outputs": []
    },
    {
      "cell_type": "markdown",
      "source": [
        "data preprocessing"
      ],
      "metadata": {
        "id": "BWHeY-06nrK7"
      }
    },
    {
      "cell_type": "code",
      "source": [
        "def features_extractor(filename):\n",
        "    audio, sample_rate = librosa.load(filename, res_type='kaiser_fast')\n",
        "    mfccs_features = librosa.feature.mfcc(y=audio, sr=sample_rate, n_mfcc=40)\n",
        "    mfccs_scaled_features = np.mean(mfccs_features.T,axis=0)\n",
        "\n",
        "    return mfccs_scaled_features\n"
      ],
      "metadata": {
        "id": "lR4mjB1VmgU-"
      },
      "execution_count": null,
      "outputs": []
    },
    {
      "cell_type": "code",
      "source": [
        "extracted_features=[]\n",
        "for index_num,row in metadata.iterrows():\n",
        "    file_name = os.path.join(os.path.abspath(audio_dataset_path), 'fold'+str(row[\"fold\"])+'/', str(row[\"slice_file_name\"]))\n",
        "    final_class_labels=row[\"class\"]\n",
        "    data=features_extractor(file_name)\n",
        "    extracted_features.append([data,final_class_labels])\n"
      ],
      "metadata": {
        "id": "mC74V9DmmkAZ"
      },
      "execution_count": null,
      "outputs": []
    },
    {
      "cell_type": "code",
      "source": [
        "extracted_features_df=pd.DataFrame(extracted_features,columns=['feature','class'])\n",
        "extracted_features_df.head()\n"
      ],
      "metadata": {
        "id": "wLa7zsA_moAW"
      },
      "execution_count": null,
      "outputs": []
    },
    {
      "cell_type": "code",
      "source": [
        "X=np.array(extracted_features_df['feature'].tolist())\n",
        "y=np.array(extracted_features_df['class'].tolist())\n"
      ],
      "metadata": {
        "id": "DzvlTZJcmrKt"
      },
      "execution_count": null,
      "outputs": []
    },
    {
      "cell_type": "code",
      "source": [
        "labelencoder=LabelEncoder()\n",
        "y=labelencoder.fit_transform(y)\n",
        "y=to_categorical(y)"
      ],
      "metadata": {
        "id": "gJzfvhOfmtmb"
      },
      "execution_count": null,
      "outputs": []
    },
    {
      "cell_type": "code",
      "source": [
        "x_train,x_test,y_train,y_test=train_test_split(X,y,test_size=0.2,random_state=0)\n"
      ],
      "metadata": {
        "id": "AMxelV5rm1Fn"
      },
      "execution_count": null,
      "outputs": []
    },
    {
      "cell_type": "markdown",
      "source": [
        "model creation"
      ],
      "metadata": {
        "id": "utejKtmDn4q2"
      }
    },
    {
      "cell_type": "code",
      "source": [
        "num_labels = y.shape[1]\n",
        "model=Sequential()\n",
        "model.add(Dense(100,input_shape=(40,)))\n",
        "model.add(Dense(200,activation='relu'))\n",
        "model.add(Dense(100,activation='relu'))\n",
        "model.add(Dense(num_labels,activation='softmax'))\n"
      ],
      "metadata": {
        "id": "LYIs9aE4m5Gq"
      },
      "execution_count": null,
      "outputs": []
    },
    {
      "cell_type": "code",
      "source": [
        "model.compile(loss='categorical_crossentropy',metrics=['accuracy'],optimizer='adam')\n",
        "model.summary()\n"
      ],
      "metadata": {
        "id": "rsY6Nj-jm8AT"
      },
      "execution_count": null,
      "outputs": []
    },
    {
      "cell_type": "code",
      "source": [
        "checkpointer = ModelCheckpoint(filepath='saved_model/audio_classification.hdf5',\n",
        "                               verbose=1, save_best_only=True)\n",
        "callback_list = [checkpointer]\n"
      ],
      "metadata": {
        "id": "PDbflwiCm-ML"
      },
      "execution_count": null,
      "outputs": []
    },
    {
      "cell_type": "markdown",
      "source": [
        "model training"
      ],
      "metadata": {
        "id": "ja2BHWbXoAIZ"
      }
    },
    {
      "cell_type": "code",
      "source": [
        "model.fit(x_train, y_train, batch_size=32, epochs=100, validation_data=(x_test, y_test),\n",
        "          callbacks=callback_list)\n"
      ],
      "metadata": {
        "id": "uIQJnIdunAvu"
      },
      "execution_count": null,
      "outputs": []
    },
    {
      "cell_type": "markdown",
      "source": [
        "checking accuracy"
      ],
      "metadata": {
        "id": "CzHwGfJeoEgn"
      }
    },
    {
      "cell_type": "code",
      "source": [
        "test_accuracy=model.evaluate(x_test,y_test,verbose=0)\n",
        "print(test_accuracy[1])\n"
      ],
      "metadata": {
        "id": "vZNtadlxnD9K"
      },
      "execution_count": null,
      "outputs": []
    },
    {
      "cell_type": "markdown",
      "source": [
        "testing model by passing a testcase (drilling sound here)"
      ],
      "metadata": {
        "id": "04EmzOZZoJTW"
      }
    },
    {
      "cell_type": "code",
      "source": [
        "filename=\"UrbanSound8K/drilling_1.wav\"\n",
        "audio, sample_rate = librosa.load(filename, res_type='kaiser_fast')\n",
        "mfccs_features = librosa.feature.mfcc(y=audio, sr=sample_rate, n_mfcc=40)\n",
        "mfccs_scaled_features = np.mean(mfccs_features.T,axis=0)\n",
        "\n",
        "print(mfccs_scaled_features)\n",
        "mfccs_scaled_features=mfccs_scaled_features.reshape(1,-1)\n",
        "print(mfccs_scaled_features)\n",
        "print(mfccs_scaled_features.shape)\n",
        "predicted_label=model.predict_classes(mfccs_scaled_features)\n",
        "print(predicted_label)\n",
        "prediction_class = labelencoder.inverse_transform(predicted_label)\n",
        "print(prediction_class)"
      ],
      "metadata": {
        "id": "AcGhl3gknGiH"
      },
      "execution_count": null,
      "outputs": []
    }
  ]
}